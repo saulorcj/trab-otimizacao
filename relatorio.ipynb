{
 "cells": [
  {
   "cell_type": "code",
   "execution_count": 1,
   "metadata": {},
   "outputs": [],
   "source": [
    "import pandas as pd\n",
    "import numpy as np"
   ]
  },
  {
   "attachments": {},
   "cell_type": "markdown",
   "metadata": {},
   "source": [
    "##### Função a ser minimizada:\n",
    "\n",
    "$F = 1.2x_1 + 1.5x_2 + 0.9x_3 + 1.3x_4 + 1.45x_5 + 1.2x_6 + 1x_7$\n",
    "\n",
    "##### Restrições:\n",
    "\n",
    "- $x_1 \\leq 4000$\n",
    "- $x_2 \\leq 3000$\n",
    "- $x_3 \\leq 6000$\n",
    "- $x_4 \\leq 5000$\n",
    "- $x_5 \\leq 2000$\n",
    "- $x_6 \\leq 3000$\n",
    "- $x_7 \\leq 2500$\n",
    "- $\\frac{0.025x_1 + 0.03}{x_1+...+x_7} \\geq 0.02$\n",
    "- $\\frac{0.025x_1 + 0.03}{x_1+...+x_7} \\leq 0.03$\n",
    "- $\\frac{0.003x_3 + 0.9x_4 + 0.96x_5 + 0.004x_6 + 0.006x_7}{x_1+...+x_7} \\geq 0.004$\n",
    "- $\\frac{0.003x_3 + 0.9x_4 + 0.96x_5 + 0.004x_6 + 0.006x_7}{x_1+...+x_7} \\leq 0.006$\n",
    "- $\\frac{0.013x_1 + 0.008x_2 + 0.04x_5 + 0.012x_6}{x1+...x_7} \\geq 0.012$\n",
    "- $\\frac{0.013x_1 + 0.008x_2 + 0.04x_5 + 0.012x_6}{x1+...x_7} \\leq 0.0165$\n",
    "  \n",
    "##### Restrições de não negatividade\n",
    "\n",
    "- $x_1 \\geq 0$\n",
    "- $x_2 \\geq 0$\n",
    "- $x_3 \\geq 0$\n",
    "- $x_4 \\geq 0$\n",
    "- $x_5 \\geq 0$\n",
    "- $x_6 \\geq 0$\n",
    "- $x_7 \\geq 0$"
   ]
  }
 ],
 "metadata": {
  "kernelspec": {
   "display_name": "base",
   "language": "python",
   "name": "python3"
  },
  "language_info": {
   "codemirror_mode": {
    "name": "ipython",
    "version": 3
   },
   "file_extension": ".py",
   "mimetype": "text/x-python",
   "name": "python",
   "nbconvert_exporter": "python",
   "pygments_lexer": "ipython3",
   "version": "3.9.13"
  },
  "orig_nbformat": 4
 },
 "nbformat": 4,
 "nbformat_minor": 2
}
